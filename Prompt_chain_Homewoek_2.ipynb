{
  "nbformat": 4,
  "nbformat_minor": 0,
  "metadata": {
    "colab": {
      "provenance": []
    },
    "kernelspec": {
      "name": "python3",
      "display_name": "Python 3"
    },
    "language_info": {
      "name": "python"
    }
  },
  "cells": [
    {
      "cell_type": "code",
      "execution_count": 1,
      "metadata": {
        "colab": {
          "base_uri": "https://localhost:8080/"
        },
        "id": "voHkW5QrFjl_",
        "outputId": "296b8e34-da8d-416f-b2a9-e21948226b55"
      },
      "outputs": [
        {
          "output_type": "stream",
          "name": "stdout",
          "text": [
            "Collecting langchain\n",
            "  Downloading langchain-0.2.14-py3-none-any.whl.metadata (7.1 kB)\n",
            "Collecting groq\n",
            "  Downloading groq-0.9.0-py3-none-any.whl.metadata (13 kB)\n",
            "Requirement already satisfied: PyYAML>=5.3 in /usr/local/lib/python3.10/dist-packages (from langchain) (6.0.2)\n",
            "Requirement already satisfied: SQLAlchemy<3,>=1.4 in /usr/local/lib/python3.10/dist-packages (from langchain) (2.0.32)\n",
            "Requirement already satisfied: aiohttp<4.0.0,>=3.8.3 in /usr/local/lib/python3.10/dist-packages (from langchain) (3.10.5)\n",
            "Requirement already satisfied: async-timeout<5.0.0,>=4.0.0 in /usr/local/lib/python3.10/dist-packages (from langchain) (4.0.3)\n",
            "Collecting langchain-core<0.3.0,>=0.2.32 (from langchain)\n",
            "  Downloading langchain_core-0.2.35-py3-none-any.whl.metadata (6.2 kB)\n",
            "Collecting langchain-text-splitters<0.3.0,>=0.2.0 (from langchain)\n",
            "  Downloading langchain_text_splitters-0.2.2-py3-none-any.whl.metadata (2.1 kB)\n",
            "Collecting langsmith<0.2.0,>=0.1.17 (from langchain)\n",
            "  Downloading langsmith-0.1.104-py3-none-any.whl.metadata (13 kB)\n",
            "Requirement already satisfied: numpy<2,>=1 in /usr/local/lib/python3.10/dist-packages (from langchain) (1.26.4)\n",
            "Requirement already satisfied: pydantic<3,>=1 in /usr/local/lib/python3.10/dist-packages (from langchain) (2.8.2)\n",
            "Requirement already satisfied: requests<3,>=2 in /usr/local/lib/python3.10/dist-packages (from langchain) (2.32.3)\n",
            "Collecting tenacity!=8.4.0,<9.0.0,>=8.1.0 (from langchain)\n",
            "  Downloading tenacity-8.5.0-py3-none-any.whl.metadata (1.2 kB)\n",
            "Requirement already satisfied: anyio<5,>=3.5.0 in /usr/local/lib/python3.10/dist-packages (from groq) (3.7.1)\n",
            "Requirement already satisfied: distro<2,>=1.7.0 in /usr/lib/python3/dist-packages (from groq) (1.7.0)\n",
            "Collecting httpx<1,>=0.23.0 (from groq)\n",
            "  Downloading httpx-0.27.0-py3-none-any.whl.metadata (7.2 kB)\n",
            "Requirement already satisfied: sniffio in /usr/local/lib/python3.10/dist-packages (from groq) (1.3.1)\n",
            "Requirement already satisfied: typing-extensions<5,>=4.7 in /usr/local/lib/python3.10/dist-packages (from groq) (4.12.2)\n",
            "Requirement already satisfied: aiohappyeyeballs>=2.3.0 in /usr/local/lib/python3.10/dist-packages (from aiohttp<4.0.0,>=3.8.3->langchain) (2.4.0)\n",
            "Requirement already satisfied: aiosignal>=1.1.2 in /usr/local/lib/python3.10/dist-packages (from aiohttp<4.0.0,>=3.8.3->langchain) (1.3.1)\n",
            "Requirement already satisfied: attrs>=17.3.0 in /usr/local/lib/python3.10/dist-packages (from aiohttp<4.0.0,>=3.8.3->langchain) (24.2.0)\n",
            "Requirement already satisfied: frozenlist>=1.1.1 in /usr/local/lib/python3.10/dist-packages (from aiohttp<4.0.0,>=3.8.3->langchain) (1.4.1)\n",
            "Requirement already satisfied: multidict<7.0,>=4.5 in /usr/local/lib/python3.10/dist-packages (from aiohttp<4.0.0,>=3.8.3->langchain) (6.0.5)\n",
            "Requirement already satisfied: yarl<2.0,>=1.0 in /usr/local/lib/python3.10/dist-packages (from aiohttp<4.0.0,>=3.8.3->langchain) (1.9.4)\n",
            "Requirement already satisfied: idna>=2.8 in /usr/local/lib/python3.10/dist-packages (from anyio<5,>=3.5.0->groq) (3.7)\n",
            "Requirement already satisfied: exceptiongroup in /usr/local/lib/python3.10/dist-packages (from anyio<5,>=3.5.0->groq) (1.2.2)\n",
            "Requirement already satisfied: certifi in /usr/local/lib/python3.10/dist-packages (from httpx<1,>=0.23.0->groq) (2024.7.4)\n",
            "Collecting httpcore==1.* (from httpx<1,>=0.23.0->groq)\n",
            "  Downloading httpcore-1.0.5-py3-none-any.whl.metadata (20 kB)\n",
            "Collecting h11<0.15,>=0.13 (from httpcore==1.*->httpx<1,>=0.23.0->groq)\n",
            "  Downloading h11-0.14.0-py3-none-any.whl.metadata (8.2 kB)\n",
            "Collecting jsonpatch<2.0,>=1.33 (from langchain-core<0.3.0,>=0.2.32->langchain)\n",
            "  Downloading jsonpatch-1.33-py2.py3-none-any.whl.metadata (3.0 kB)\n",
            "Requirement already satisfied: packaging<25,>=23.2 in /usr/local/lib/python3.10/dist-packages (from langchain-core<0.3.0,>=0.2.32->langchain) (24.1)\n",
            "Collecting orjson<4.0.0,>=3.9.14 (from langsmith<0.2.0,>=0.1.17->langchain)\n",
            "  Downloading orjson-3.10.7-cp310-cp310-manylinux_2_17_x86_64.manylinux2014_x86_64.whl.metadata (50 kB)\n",
            "\u001b[2K     \u001b[90m━━━━━━━━━━━━━━━━━━━━━━━━━━━━━━━━━━━━━━━━\u001b[0m \u001b[32m50.4/50.4 kB\u001b[0m \u001b[31m1.1 MB/s\u001b[0m eta \u001b[36m0:00:00\u001b[0m\n",
            "\u001b[?25hRequirement already satisfied: annotated-types>=0.4.0 in /usr/local/lib/python3.10/dist-packages (from pydantic<3,>=1->langchain) (0.7.0)\n",
            "Requirement already satisfied: pydantic-core==2.20.1 in /usr/local/lib/python3.10/dist-packages (from pydantic<3,>=1->langchain) (2.20.1)\n",
            "Requirement already satisfied: charset-normalizer<4,>=2 in /usr/local/lib/python3.10/dist-packages (from requests<3,>=2->langchain) (3.3.2)\n",
            "Requirement already satisfied: urllib3<3,>=1.21.1 in /usr/local/lib/python3.10/dist-packages (from requests<3,>=2->langchain) (2.0.7)\n",
            "Requirement already satisfied: greenlet!=0.4.17 in /usr/local/lib/python3.10/dist-packages (from SQLAlchemy<3,>=1.4->langchain) (3.0.3)\n",
            "Collecting jsonpointer>=1.9 (from jsonpatch<2.0,>=1.33->langchain-core<0.3.0,>=0.2.32->langchain)\n",
            "  Downloading jsonpointer-3.0.0-py2.py3-none-any.whl.metadata (2.3 kB)\n",
            "Downloading langchain-0.2.14-py3-none-any.whl (997 kB)\n",
            "\u001b[2K   \u001b[90m━━━━━━━━━━━━━━━━━━━━━━━━━━━━━━━━━━━━━━━━\u001b[0m \u001b[32m997.8/997.8 kB\u001b[0m \u001b[31m16.4 MB/s\u001b[0m eta \u001b[36m0:00:00\u001b[0m\n",
            "\u001b[?25hDownloading groq-0.9.0-py3-none-any.whl (103 kB)\n",
            "\u001b[2K   \u001b[90m━━━━━━━━━━━━━━━━━━━━━━━━━━━━━━━━━━━━━━━━\u001b[0m \u001b[32m103.5/103.5 kB\u001b[0m \u001b[31m5.0 MB/s\u001b[0m eta \u001b[36m0:00:00\u001b[0m\n",
            "\u001b[?25hDownloading httpx-0.27.0-py3-none-any.whl (75 kB)\n",
            "\u001b[2K   \u001b[90m━━━━━━━━━━━━━━━━━━━━━━━━━━━━━━━━━━━━━━━━\u001b[0m \u001b[32m75.6/75.6 kB\u001b[0m \u001b[31m5.0 MB/s\u001b[0m eta \u001b[36m0:00:00\u001b[0m\n",
            "\u001b[?25hDownloading httpcore-1.0.5-py3-none-any.whl (77 kB)\n",
            "\u001b[2K   \u001b[90m━━━━━━━━━━━━━━━━━━━━━━━━━━━━━━━━━━━━━━━━\u001b[0m \u001b[32m77.9/77.9 kB\u001b[0m \u001b[31m4.6 MB/s\u001b[0m eta \u001b[36m0:00:00\u001b[0m\n",
            "\u001b[?25hDownloading langchain_core-0.2.35-py3-none-any.whl (394 kB)\n",
            "\u001b[2K   \u001b[90m━━━━━━━━━━━━━━━━━━━━━━━━━━━━━━━━━━━━━━━━\u001b[0m \u001b[32m394.9/394.9 kB\u001b[0m \u001b[31m21.0 MB/s\u001b[0m eta \u001b[36m0:00:00\u001b[0m\n",
            "\u001b[?25hDownloading langchain_text_splitters-0.2.2-py3-none-any.whl (25 kB)\n",
            "Downloading langsmith-0.1.104-py3-none-any.whl (149 kB)\n",
            "\u001b[2K   \u001b[90m━━━━━━━━━━━━━━━━━━━━━━━━━━━━━━━━━━━━━━━━\u001b[0m \u001b[32m149.1/149.1 kB\u001b[0m \u001b[31m8.4 MB/s\u001b[0m eta \u001b[36m0:00:00\u001b[0m\n",
            "\u001b[?25hDownloading tenacity-8.5.0-py3-none-any.whl (28 kB)\n",
            "Downloading jsonpatch-1.33-py2.py3-none-any.whl (12 kB)\n",
            "Downloading orjson-3.10.7-cp310-cp310-manylinux_2_17_x86_64.manylinux2014_x86_64.whl (141 kB)\n",
            "\u001b[2K   \u001b[90m━━━━━━━━━━━━━━━━━━━━━━━━━━━━━━━━━━━━━━━━\u001b[0m \u001b[32m141.9/141.9 kB\u001b[0m \u001b[31m8.1 MB/s\u001b[0m eta \u001b[36m0:00:00\u001b[0m\n",
            "\u001b[?25hDownloading h11-0.14.0-py3-none-any.whl (58 kB)\n",
            "\u001b[2K   \u001b[90m━━━━━━━━━━━━━━━━━━━━━━━━━━━━━━━━━━━━━━━━\u001b[0m \u001b[32m58.3/58.3 kB\u001b[0m \u001b[31m3.0 MB/s\u001b[0m eta \u001b[36m0:00:00\u001b[0m\n",
            "\u001b[?25hDownloading jsonpointer-3.0.0-py2.py3-none-any.whl (7.6 kB)\n",
            "Installing collected packages: tenacity, orjson, jsonpointer, h11, jsonpatch, httpcore, httpx, langsmith, groq, langchain-core, langchain-text-splitters, langchain\n",
            "  Attempting uninstall: tenacity\n",
            "    Found existing installation: tenacity 9.0.0\n",
            "    Uninstalling tenacity-9.0.0:\n",
            "      Successfully uninstalled tenacity-9.0.0\n",
            "Successfully installed groq-0.9.0 h11-0.14.0 httpcore-1.0.5 httpx-0.27.0 jsonpatch-1.33 jsonpointer-3.0.0 langchain-0.2.14 langchain-core-0.2.35 langchain-text-splitters-0.2.2 langsmith-0.1.104 orjson-3.10.7 tenacity-8.5.0\n",
            "Collecting langchain-groq\n",
            "  Downloading langchain_groq-0.1.9-py3-none-any.whl.metadata (2.9 kB)\n",
            "Requirement already satisfied: groq in /usr/local/lib/python3.10/dist-packages (0.9.0)\n",
            "Requirement already satisfied: langchain-core<0.3.0,>=0.2.26 in /usr/local/lib/python3.10/dist-packages (from langchain-groq) (0.2.35)\n",
            "Requirement already satisfied: anyio<5,>=3.5.0 in /usr/local/lib/python3.10/dist-packages (from groq) (3.7.1)\n",
            "Requirement already satisfied: distro<2,>=1.7.0 in /usr/lib/python3/dist-packages (from groq) (1.7.0)\n",
            "Requirement already satisfied: httpx<1,>=0.23.0 in /usr/local/lib/python3.10/dist-packages (from groq) (0.27.0)\n",
            "Requirement already satisfied: pydantic<3,>=1.9.0 in /usr/local/lib/python3.10/dist-packages (from groq) (2.8.2)\n",
            "Requirement already satisfied: sniffio in /usr/local/lib/python3.10/dist-packages (from groq) (1.3.1)\n",
            "Requirement already satisfied: typing-extensions<5,>=4.7 in /usr/local/lib/python3.10/dist-packages (from groq) (4.12.2)\n",
            "Requirement already satisfied: idna>=2.8 in /usr/local/lib/python3.10/dist-packages (from anyio<5,>=3.5.0->groq) (3.7)\n",
            "Requirement already satisfied: exceptiongroup in /usr/local/lib/python3.10/dist-packages (from anyio<5,>=3.5.0->groq) (1.2.2)\n",
            "Requirement already satisfied: certifi in /usr/local/lib/python3.10/dist-packages (from httpx<1,>=0.23.0->groq) (2024.7.4)\n",
            "Requirement already satisfied: httpcore==1.* in /usr/local/lib/python3.10/dist-packages (from httpx<1,>=0.23.0->groq) (1.0.5)\n",
            "Requirement already satisfied: h11<0.15,>=0.13 in /usr/local/lib/python3.10/dist-packages (from httpcore==1.*->httpx<1,>=0.23.0->groq) (0.14.0)\n",
            "Requirement already satisfied: PyYAML>=5.3 in /usr/local/lib/python3.10/dist-packages (from langchain-core<0.3.0,>=0.2.26->langchain-groq) (6.0.2)\n",
            "Requirement already satisfied: jsonpatch<2.0,>=1.33 in /usr/local/lib/python3.10/dist-packages (from langchain-core<0.3.0,>=0.2.26->langchain-groq) (1.33)\n",
            "Requirement already satisfied: langsmith<0.2.0,>=0.1.75 in /usr/local/lib/python3.10/dist-packages (from langchain-core<0.3.0,>=0.2.26->langchain-groq) (0.1.104)\n",
            "Requirement already satisfied: packaging<25,>=23.2 in /usr/local/lib/python3.10/dist-packages (from langchain-core<0.3.0,>=0.2.26->langchain-groq) (24.1)\n",
            "Requirement already satisfied: tenacity!=8.4.0,<9.0.0,>=8.1.0 in /usr/local/lib/python3.10/dist-packages (from langchain-core<0.3.0,>=0.2.26->langchain-groq) (8.5.0)\n",
            "Requirement already satisfied: annotated-types>=0.4.0 in /usr/local/lib/python3.10/dist-packages (from pydantic<3,>=1.9.0->groq) (0.7.0)\n",
            "Requirement already satisfied: pydantic-core==2.20.1 in /usr/local/lib/python3.10/dist-packages (from pydantic<3,>=1.9.0->groq) (2.20.1)\n",
            "Requirement already satisfied: jsonpointer>=1.9 in /usr/local/lib/python3.10/dist-packages (from jsonpatch<2.0,>=1.33->langchain-core<0.3.0,>=0.2.26->langchain-groq) (3.0.0)\n",
            "Requirement already satisfied: orjson<4.0.0,>=3.9.14 in /usr/local/lib/python3.10/dist-packages (from langsmith<0.2.0,>=0.1.75->langchain-core<0.3.0,>=0.2.26->langchain-groq) (3.10.7)\n",
            "Requirement already satisfied: requests<3,>=2 in /usr/local/lib/python3.10/dist-packages (from langsmith<0.2.0,>=0.1.75->langchain-core<0.3.0,>=0.2.26->langchain-groq) (2.32.3)\n",
            "Requirement already satisfied: charset-normalizer<4,>=2 in /usr/local/lib/python3.10/dist-packages (from requests<3,>=2->langsmith<0.2.0,>=0.1.75->langchain-core<0.3.0,>=0.2.26->langchain-groq) (3.3.2)\n",
            "Requirement already satisfied: urllib3<3,>=1.21.1 in /usr/local/lib/python3.10/dist-packages (from requests<3,>=2->langsmith<0.2.0,>=0.1.75->langchain-core<0.3.0,>=0.2.26->langchain-groq) (2.0.7)\n",
            "Downloading langchain_groq-0.1.9-py3-none-any.whl (14 kB)\n",
            "Installing collected packages: langchain-groq\n",
            "Successfully installed langchain-groq-0.1.9\n"
          ]
        }
      ],
      "source": [
        "!pip install langchain groq\n",
        "!pip install langchain-groq groq\n",
        "\n"
      ]
    },
    {
      "cell_type": "code",
      "source": [
        "from langchain_groq import ChatGroq\n",
        "from langchain.chains import LLMChain, SimpleSequentialChain\n",
        "from langchain_core.messages import AIMessage, HumanMessage, SystemMessage\n",
        "from langchain.prompts import Prompt\n",
        "from langchain import PromptTemplate, LLMChain\n",
        "import os\n",
        "\n",
        "# Set your Groq API key\n",
        "os.environ[\"GROQ_API_KEY\"] = \"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\"\n",
        "\n",
        "# Initialize the Groq LLM\n",
        "llm = ChatGroq(model_name=\"mixtral-8x7b-32768\")"
      ],
      "metadata": {
        "id": "pk4xAJrHF8J9"
      },
      "execution_count": 2,
      "outputs": []
    },
    {
      "cell_type": "markdown",
      "source": [
        "Question 1: Chain-of-Thought Prompting Implement a Chain-of-Thought prompting system to solve word problems. Your system should break down the problem-solving process into steps and show its reasoning.\n",
        "\n",
        "Task:\n",
        "\n",
        "● Create a function that takes a word problem as input.\n",
        "\n",
        "● Use the OpenAI API or any other LLM API to generate a step-by-step solution.\n",
        "\n",
        "● The output should show each step of the reasoning process.\n",
        "\n",
        "● Test your function with at least two word problems of varying complexity.\n",
        "\n",
        "Example word problem: \"A baker has 150 eggs. If each cake requires 3 eggs and each cookie requires 2 eggs, how many cakes and cookies can the baker make if they want to use all the eggs and make an equal number of each?\""
      ],
      "metadata": {
        "id": "SVdnpjywG-1r"
      }
    },
    {
      "cell_type": "code",
      "source": [
        "#Setup HumanMessage, SystemMessage for simple prompt.\n",
        "example = \"\"\"\n",
        "Question: A gardener has 36 seeds. Each plant requires either 3 seeds for a rose or 4 seeds for a tulip. The gardener wants to use all the seeds and plant an equal number of roses and tulips.Answer: 10.\n",
        "Answer: 5.14\n",
        "Question: A library has 45 books. If they lent out 12 books and then received 8 more as donations, how many books does the library have now?\n",
        "Answer:\n",
        "\"\"\"\n",
        "human_message = HumanMessage(content=example)\n",
        "system_message = SystemMessage(content=\"You are helpful assistant.\")\n",
        "\n",
        "\n",
        "new_prompt = (system_message + human_message)\n",
        "\n",
        "print (f\"Prompt: {new_prompt}\")\n",
        "\n",
        "chain = LLMChain(llm=llm, prompt=new_prompt)\n",
        "reponse = chain.run({})\n",
        "print(f\"Response: {reponse}\")"
      ],
      "metadata": {
        "colab": {
          "base_uri": "https://localhost:8080/"
        },
        "id": "-FWGUBuXHFDi",
        "outputId": "a0baf471-17dd-4e32-c8e6-1fc2c7ff0f87"
      },
      "execution_count": 3,
      "outputs": [
        {
          "output_type": "stream",
          "name": "stdout",
          "text": [
            "Prompt: input_variables=[] messages=[SystemMessage(content='You are helpful assistant.'), HumanMessage(content='\\nQuestion: A gardener has 36 seeds. Each plant requires either 3 seeds for a rose or 4 seeds for a tulip. The gardener wants to use all the seeds and plant an equal number of roses and tulips.Answer: 10.\\nAnswer: 5.14\\nQuestion: A library has 45 books. If they lent out 12 books and then received 8 more as donations, how many books does the library have now?\\nAnswer:\\n')]\n"
          ]
        },
        {
          "output_type": "stream",
          "name": "stderr",
          "text": [
            "/usr/local/lib/python3.10/dist-packages/langchain_core/_api/deprecation.py:151: LangChainDeprecationWarning: The class `LLMChain` was deprecated in LangChain 0.1.17 and will be removed in 1.0. Use RunnableSequence, e.g., `prompt | llm` instead.\n",
            "  warn_deprecated(\n",
            "/usr/local/lib/python3.10/dist-packages/langchain_core/_api/deprecation.py:151: LangChainDeprecationWarning: The method `Chain.run` was deprecated in langchain 0.1.0 and will be removed in 1.0. Use invoke instead.\n",
            "  warn_deprecated(\n"
          ]
        },
        {
          "output_type": "stream",
          "name": "stdout",
          "text": [
            "Response: The library has 41 books now. The librarian first lent out 12 books, which left them with 45 - 12 = 33 books. Then, they received 8 more books as donations, so the total number of books they have now is 33 + 8 = 41 books.\n"
          ]
        }
      ]
    },
    {
      "cell_type": "markdown",
      "source": [
        "Question 2: Prompt-chaining Develop a prompt-chaining system that generates a short story based on user input. Thesystem should use multiple prompts in sequence, with each prompt building on the output of theprevious one.\n",
        "\n",
        "Task:\n",
        "\n",
        "● Create a series of at least 3 prompts that will be chained together.\n",
        "\n",
        "● The first prompt should ask for a genre and main character.\n",
        "\n",
        "● Subsequent prompts should build on previous outputs to develop the plot and conclusion.\n",
        "\n",
        "● Implement the chaining logic to pass information between prompts.\n",
        "\n",
        "● Allow the user to input the initial genre and main character.\n",
        "\n",
        "● Output the final story generated through the chain."
      ],
      "metadata": {
        "id": "HDj1mXjZHtc2"
      }
    },
    {
      "cell_type": "code",
      "source": [
        "# System message setup\n",
        "system_message = SystemMessage(content=\"You are a creative assistant for generating short stories.\")\n",
        "\n",
        "# Prompt 1: Get genre and main character\n",
        "initial_prompt = HumanMessage(content=\"Provide a genre and a main character for a short story.\")\n",
        "\n",
        "# Create the chain and get the genre and character\n",
        "chain1 = LLMChain(llm=llm, prompt=system_message + initial_prompt)\n",
        "response1 = chain1.run({})\n",
        "\n",
        "try:\n",
        "    genre, character = response1.split(', ')\n",
        "except ValueError as e:\n",
        "    print(f\"Error parsing response: {e}\")\n",
        "    genre, character = None, None\n",
        "\n",
        "# Example response\n",
        "response1 = \"Fantasy, The Lost City\"\n",
        "print(f\"Genre: {genre}, \\nCharacter: {character}\")\n",
        "\n",
        "# Prompt 2: Develop the plot based on the genre and character\n",
        "plot_prompt = HumanMessage(content=f\"Based on the genre '{genre}' and the main character '{character}', write a brief plot outline for a short story.\")\n",
        "\n",
        "# Create the chain and get the plot\n",
        "chain2 = LLMChain(llm=llm, prompt=system_message + plot_prompt)\n",
        "plot = chain2.run({})\n",
        "\n",
        "# Prompt 3: Write the conclusion based on the plot\n",
        "conclusion_prompt = HumanMessage(content=f\"Based on the plot outline provided, write the conclusion for the short story.\")\n",
        "\n",
        "# Create the chain and get the conclusion\n",
        "chain3 = LLMChain(llm=llm, prompt=system_message + conclusion_prompt)\n",
        "conclusion = chain3.run({})\n",
        "\n",
        "# Combine all parts to form the final story\n",
        "final_story = f\"Genre: {genre}\\nMain Character: {character}\\nPlot: {plot}\\nConclusion: {conclusion}\"\n",
        "print(final_story)\n"
      ],
      "metadata": {
        "colab": {
          "base_uri": "https://localhost:8080/"
        },
        "id": "0qq1pFjhH1vO",
        "outputId": "3d25feb9-9c81-4358-9e0c-d58b76e7d275"
      },
      "execution_count": 4,
      "outputs": [
        {
          "output_type": "stream",
          "name": "stdout",
          "text": [
            "Error parsing response: not enough values to unpack (expected 2, got 1)\n",
            "Genre: None, \n",
            "Character: None\n",
            "Genre: None\n",
            "Main Character: None\n",
            "Plot: Title: The Invisible Thread\n",
            "\n",
            "In a world where everyone has a visible thread attached to them, representing their purpose in life, our protagonist is born without one. This thread, only visible to a select few, is a symbol of each person's destiny and guides their actions. The absence of this thread in the main character creates a unique situation, making them feel lost and isolated.\n",
            "\n",
            "Throughout their life, they encounter various individuals who can see the invisible thread and are intrigued by its absence. They embark on a journey to find meaning and purpose without the guidance of a predetermined destiny. Along the way, they discover that their thread is not absent but rather woven into the lives of everyone they meet, connecting them in a profound and meaningful way.\n",
            "\n",
            "In the end, the main character learns that their purpose is to bring people together and create stronger bonds, rather than following a single, predetermined path. This realization allows them to find fulfillment and contentment in their unique role in the world.\n",
            "Conclusion: Plot Outline: A young, talented musician named Alex lives in a small town and dreams of performing on a big stage. One day, they find an old, mysterious violin in the attic of their home. The violin has a unique, enchanting sound that captures the hearts of everyone who hears it. Alex starts gaining local fame and attention, which eventually leads to a big-city talent scout discovering them. However, the violin comes with a catch - it can only be played at sunrise and sunset.\n",
            "\n",
            "Conclusion:\n",
            "\n",
            "As Alex stood backstage, holding the mysterious violin, their heart raced with anticipation. The grand concert hall was filled to capacity, and the air was thick with excitement. This was the moment Alex had been dreaming of since they were a child - the chance to share their music with the world.\n",
            "\n",
            "The stage lights dimmed, and the audience fell silent. Alex closed their eyes, took a deep breath, and waited for the sun to begin its descent. As the first rays of sunlight began to fade, they gently placed the bow on the strings and brought the violin to life.\n",
            "\n",
            "The enchanting melody filled the concert hall, and a hush fell over the crowd. They had never heard anything like it before - a sound that seemed to capture the very essence of nature and emotion. It was as if the violin was singing, telling a story of its own.\n",
            "\n",
            "As the sun dipped below the horizon, the final notes of the piece echoed through the hall. The audience erupted into applause, their faces filled with awe and wonder. Alex took a bow, feeling a deep sense of gratitude for the mysterious violin and the gift it had given them.\n",
            "\n",
            "From that day forward, Alex's career soared. They became known as the \"Sunrise Serenader,\" the musician who could capture the very essence of a sunrise or sunset in a single melody. And though their schedule became hectic, they never forgot the humble beginnings of their success or the magical violin that had made it all possible. They continued to play the violin at sunrise and sunset, cherishing the moments when they could truly connect with the music and the world around them.\n"
          ]
        }
      ]
    },
    {
      "cell_type": "markdown",
      "source": [
        "Question 3: Tree-of-Thought Prompting Implement a Tree-of-Thought prompting system to solve a complex problem. The system should explore multiple paths of reasoning and select the most promising one. Task:\n",
        "\n",
        "● Create a function that takes a complex problem as input.\n",
        "\n",
        "● Generate at least 3 different initial approaches to solving the problem.\n",
        "\n",
        "● For each approach, develop 2-3 possible next steps.\n",
        "\n",
        "● Implement a method to evaluate the promise of each path.\n",
        "\n",
        "● Select the most promising path and generate a final solution.\n",
        "\n",
        "● Test your system with the following problem:\n",
        "\n",
        "Problem: \"Design a sustainable urban transportation system for a city of 1 million people. Consider factors such as environmental impact, cost-effectiveness, and accessibility for all residents.\""
      ],
      "metadata": {
        "id": "hTBZ0rPlIRGH"
      }
    },
    {
      "cell_type": "code",
      "source": [
        "# First prompt template\n",
        "first_prompt = PromptTemplate(\n",
        "    input_variables=[\"topic\"],\n",
        "    template=\"Write a short introduction about {topic}.\"\n",
        ")\n",
        "\n",
        "# Second prompt template\n",
        "second_prompt = PromptTemplate(\n",
        "    input_variables=[\"introduction\"],\n",
        "    template=\"Based on this introduction, suggest 3 key points to expand upon: {introduction}\"\n",
        ")\n",
        "\n",
        "# Third prompt template\n",
        "third_prompt = PromptTemplate(\n",
        "    input_variables=[\"key_points\"],\n",
        "    template=\"For each of these key points, provide a brief explanation: {key_points}\"\n",
        ")\n",
        "\n",
        "# Create chains\n",
        "chain_one = LLMChain(llm=llm, prompt=first_prompt)\n",
        "chain_two = LLMChain(llm=llm, prompt=second_prompt)\n",
        "chain_three = LLMChain(llm=llm, prompt=third_prompt)\n",
        "\n",
        "# Create the sequential chain\n",
        "overall_chain = SimpleSequentialChain(\n",
        "    chains=[chain_one, chain_two, chain_three],\n",
        "    verbose=True\n",
        ")\n",
        "\n",
        "# Run the chain\n",
        "topic = \"Design a sustainable urban transportation system for a city of 1 million people.Consider factors such as environmental impact, cost-effectiveness, and accessibility for allresidents\"\n",
        "result = overall_chain.run(topic)\n",
        "\n",
        "print(result)"
      ],
      "metadata": {
        "colab": {
          "base_uri": "https://localhost:8080/"
        },
        "id": "fzVTJdYkIWYf",
        "outputId": "ffcc5af7-074a-4d9b-9eac-a28b9b0fb3fc"
      },
      "execution_count": 5,
      "outputs": [
        {
          "output_type": "stream",
          "name": "stdout",
          "text": [
            "\n",
            "\n",
            "\u001b[1m> Entering new SimpleSequentialChain chain...\u001b[0m\n",
            "\u001b[36;1m\u001b[1;3mDesigning a sustainable urban transportation system for a city of 1 million people is a complex task that requires careful consideration of various factors. The goal is to create a system that minimizes environmental impact, is cost-effective, and provides accessible transportation options for all residents.\n",
            "\n",
            "To achieve these objectives, the transportation system should prioritize the use of low-emission or zero-emission vehicles, such as electric buses, trams, and trains. Additionally, promoting active transportation modes like walking, cycling, and scooting can help reduce greenhouse gas emissions and improve public health.\n",
            "\n",
            "Cost-effectiveness can be achieved by investing in infrastructure that supports multiple transportation modes, such as bus rapid transit (BRT) systems or dedicated bike lanes. These solutions can often be implemented at a lower cost than building new roads or expanding highway systems.\n",
            "\n",
            "Accessibility is crucial for ensuring that all residents have equal opportunities to access education, employment, and other essential services. The transportation system should prioritize serving areas with high concentrations of low-income households, elderly residents, and individuals with disabilities. This can be achieved through the deployment of smaller, more nimble transportation options like minibusses or on-demand shuttle services.\n",
            "\n",
            "Ultimately, a successful sustainable urban transportation system requires a holistic approach that balances environmental, economic, and social considerations. By prioritizing low-emission vehicles, cost-effective infrastructure, and accessible transportation options, cities can create a more sustainable and equitable future for their residents.\u001b[0m\n",
            "\u001b[33;1m\u001b[1;3m1. Prioritizing low-emission or zero-emission vehicles: A key aspect of designing a sustainable urban transportation system is reducing greenhouse gas emissions and air pollution. By prioritizing the use of low-emission or zero-emission vehicles such as electric buses, trams, and trains, cities can significantly decrease their carbon footprint. Additionally, incentives and subsidies can be provided to encourage the adoption of electric or hybrid personal vehicles, further reducing emissions. Cities can also invest in charging infrastructure for electric vehicles and promote car-sharing programs to reduce the number of cars on the road.\n",
            "\n",
            "2. Implementing cost-effective infrastructure: Another crucial factor in designing a sustainable urban transportation system is cost-effectiveness. Cities should prioritize infrastructure investments that support multiple transportation modes, such as bus rapid transit (BRT) systems, light rail transit (LRT), and dedicated bike lanes. These solutions are often more affordable than building new roads or expanding highway systems and offer the added benefit of reducing traffic congestion. Cities can also explore innovative financing mechanisms, such as public-private partnerships or value capture strategies, to fund transportation infrastructure projects.\n",
            "\n",
            "3. Ensuring accessible transportation options for all residents: Accessibility is essential for creating an equitable urban transportation system. Cities should prioritize serving areas with high concentrations of low-income households, elderly residents, and individuals with disabilities. This can be achieved through the deployment of smaller, more nimble transportation options like minibusses or on-demand shuttle services. Public transportation routes and schedules should be designed to provide convenient access to essential services such as education, employment, and healthcare. Cities can also invest in pedestrian and cycling infrastructure, such as wider sidewalks, better lighting, and accessible crossings, to promote active transportation and improve safety for all road users.\u001b[0m\n",
            "\u001b[38;5;200m\u001b[1;3m1. Prioritizing low-emission or zero-emission vehicles: This approach focuses on reducing greenhouse gas emissions and air pollution by promoting the use of electric buses, trams, trains, and other low-emission or zero-emission vehicles. Cities can provide incentives and subsidies for electric or hybrid personal vehicles, invest in charging infrastructure, and promote car-sharing programs to decrease the number of cars on the road. By prioritizing these vehicles, cities can significantly decrease their carbon footprint and contribute to global efforts to combat climate change.\n",
            "\n",
            "2. Implementing cost-effective infrastructure: This factor emphasizes the importance of investing in transportation infrastructure that supports multiple modes of transportation, such as bus rapid transit (BRT) systems, light rail transit (LRT), and dedicated bike lanes. These solutions are often more affordable than building new roads or expanding highway systems, and they help reduce traffic congestion. Cities can explore innovative financing mechanisms, such as public-private partnerships or value capture strategies, to fund transportation infrastructure projects. Cost-effective infrastructure also promotes sustainable urban development by encouraging compact, mixed-use communities that reduce the need for long-distance travel.\n",
            "\n",
            "3. Ensuring accessible transportation options for all residents: Accessibility is critical for creating an equitable urban transportation system. Cities should prioritize serving areas with high concentrations of low-income households, elderly residents, and individuals with disabilities by deploying smaller, more nimble transportation options like minibusses or on-demand shuttle services. Public transportation routes and schedules should be designed to provide convenient access to essential services such as education, employment, and healthcare. Investing in pedestrian and cycling infrastructure, such as wider sidewalks, better lighting, and accessible crossings, promotes active transportation and improves safety for all road users. This ensures that everyone, regardless of their income, age, or ability, has access to safe, reliable, and convenient transportation options.\u001b[0m\n",
            "\n",
            "\u001b[1m> Finished chain.\u001b[0m\n",
            "1. Prioritizing low-emission or zero-emission vehicles: This approach focuses on reducing greenhouse gas emissions and air pollution by promoting the use of electric buses, trams, trains, and other low-emission or zero-emission vehicles. Cities can provide incentives and subsidies for electric or hybrid personal vehicles, invest in charging infrastructure, and promote car-sharing programs to decrease the number of cars on the road. By prioritizing these vehicles, cities can significantly decrease their carbon footprint and contribute to global efforts to combat climate change.\n",
            "\n",
            "2. Implementing cost-effective infrastructure: This factor emphasizes the importance of investing in transportation infrastructure that supports multiple modes of transportation, such as bus rapid transit (BRT) systems, light rail transit (LRT), and dedicated bike lanes. These solutions are often more affordable than building new roads or expanding highway systems, and they help reduce traffic congestion. Cities can explore innovative financing mechanisms, such as public-private partnerships or value capture strategies, to fund transportation infrastructure projects. Cost-effective infrastructure also promotes sustainable urban development by encouraging compact, mixed-use communities that reduce the need for long-distance travel.\n",
            "\n",
            "3. Ensuring accessible transportation options for all residents: Accessibility is critical for creating an equitable urban transportation system. Cities should prioritize serving areas with high concentrations of low-income households, elderly residents, and individuals with disabilities by deploying smaller, more nimble transportation options like minibusses or on-demand shuttle services. Public transportation routes and schedules should be designed to provide convenient access to essential services such as education, employment, and healthcare. Investing in pedestrian and cycling infrastructure, such as wider sidewalks, better lighting, and accessible crossings, promotes active transportation and improves safety for all road users. This ensures that everyone, regardless of their income, age, or ability, has access to safe, reliable, and convenient transportation options.\n"
          ]
        }
      ]
    }
  ]
}